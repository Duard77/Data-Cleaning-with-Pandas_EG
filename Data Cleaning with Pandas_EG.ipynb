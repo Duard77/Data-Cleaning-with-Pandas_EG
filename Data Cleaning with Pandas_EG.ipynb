{
 "cells": [
  {
   "cell_type": "code",
   "execution_count": 1,
   "id": "079f4434",
   "metadata": {},
   "outputs": [],
   "source": [
    "\"\"\"\"\n",
    "#%% Libraries\n",
    "import pandas as pd\n",
    "import matplotlib.pyplot as plt\n",
    "import numpy as np\n",
    "\n",
    "#%% Importing Data\n",
    "flights_data = pd.read_csv('flights.csv')\n",
    "flights_data.head(10)\n",
    "weather_data_pd = pd.read_csv('weather.csv')\n",
    "weather_data_np = weather_data_pd.to_numpy()\n",
    "#%% Pandas Data Filtering/Sorting Question Answering\n",
    "#use flights_data\n",
    "\n",
    "#Question 1 How many flights were there from JFK to SLC? Int\n",
    "q_1 \n",
    "#Question 2 How many airlines fly to SLC? Should be int\n",
    "q_2 \n",
    "#Question 3 What is the average arrival delay for flights to RDU? float\n",
    "q_3\n",
    "#Question 4 What proportion of flights to SEA come from the two NYC airports (LGA and JFK)?  float\n",
    "q_4 \n",
    "#Question 5 Which date has the largest average depature delay? Pd slice with date and float\n",
    "#please make date a column. Preferred format is 2013/1/1 (y/m/d)\n",
    "q_5 \n",
    "#Question 6 Which date has the largest average arrival delay? pd slice with date and float\n",
    "q_6 \n",
    "#Question 7 Which flight departing LGA or JFK in 2013 flew the fastest? pd slice with tailnumber and speed\n",
    "#speed = distance/airtime\n",
    "q_7\n",
    "#Question 8 Replace all nans in the weather pd dataframe with 0s. Pd with no nans\n",
    "q_8 \n",
    "#%% Numpy Data Filtering/Sorting Question Answering\n",
    "#Use weather_data_np\n",
    "#Question 9 How many observations were made in Feburary? Int\n",
    "q_9 \n",
    "#Question 10 What was the mean for humidity in February? Float\n",
    "q_10\n",
    "#Question 11 What was the std for humidity in February? Float\n",
    "q_11\n",
    "\"\"\"\n",
    "import pandas as pd\n",
    "import matplotlib.pyplot as plt\n",
    "import numpy as np\n",
    "\n",
    "flights_data = pd.read_csv(r'/Applications/Python 3.10/flights.csv')\n",
    "flights_data.head(10)\n",
    "weather_data_pd = pd.read_csv(r'/Applications/Python 3.10/weather.csv')\n",
    "weather_data_np = weather_data_pd.to_numpy()"
   ]
  },
  {
   "cell_type": "code",
   "execution_count": 2,
   "id": "e7ef950c",
   "metadata": {},
   "outputs": [
    {
     "name": "stdout",
     "output_type": "stream",
     "text": [
      "2113\n"
     ]
    }
   ],
   "source": [
    "#q_1 How many flights were there from JFK to SLC? Int\n",
    "#print(flights_data.columns) to determine the column headings\n",
    "#flights_data[['origin','dest']] to filter by conditional columns\n",
    "filt_1 = flights_data.loc[(flights_data['origin']==\"JFK\") & (flights_data['dest']==\"SLC\")]   #creates a new df with condition\n",
    "q_1 = filt_1.shape[0]  #counts the number of rows in the table\n",
    "print(q_1)"
   ]
  },
  {
   "cell_type": "code",
   "execution_count": 3,
   "id": "d3197b88",
   "metadata": {},
   "outputs": [
    {
     "name": "stdout",
     "output_type": "stream",
     "text": [
      "2\n"
     ]
    }
   ],
   "source": [
    "#q_2 How many airlines fly to SLC? Should be int\n",
    "#filt_2 = \n",
    "filt_2 = flights_data.loc[flights_data['dest']==\"SLC\"]\n",
    "#print(filt_2)\n",
    "#filt_2[['carrier']]\n",
    "f_2a = filt_2.groupby('carrier')  #Groups by 'carrier' which is the column for airline companies\n",
    "f_2b = f_2a.first()    #calls the first record in each group and creates a new df\n",
    "q_2 = f_2b.shape[0]   #counts the number of rows in the table\n",
    "print(q_2)"
   ]
  },
  {
   "cell_type": "code",
   "execution_count": 4,
   "id": "d40be2fa",
   "metadata": {},
   "outputs": [
    {
     "name": "stdout",
     "output_type": "stream",
     "text": [
      "10.052380952380952\n"
     ]
    }
   ],
   "source": [
    "#q_3 What is the average arrival delay for flights to RDU? float\n",
    "filt_3 = flights_data.loc[flights_data['dest']==\"RDU\"]\n",
    "#filt_3 = flights_data.groupby(['arr_delay'])\n",
    "#print(filt_3)\n",
    "filt_3a = filt_3.dropna(subset=['arr_delay'])   #drops all rows with NaN in the 'arr_delay' column\n",
    "#print(filt_3a)\n",
    "q_3 = filt_3a['arr_delay'].mean()   #calculates the average of the arrival delay\n",
    "print(q_3)"
   ]
  },
  {
   "cell_type": "code",
   "execution_count": 5,
   "id": "bbdd6cb2",
   "metadata": {},
   "outputs": [
    {
     "name": "stdout",
     "output_type": "stream",
     "text": [
      "0.5332653581442773\n"
     ]
    }
   ],
   "source": [
    "#q_4 What proportion of flights to SEA come from the two NYC airports (LGA and JFK)?  float\n",
    "filt_4 = flights_data.loc[flights_data['dest']==\"SEA\"]  #filter by arrivals to SEA\n",
    "q_total = filt_4.shape[0]     #Count total number of rows\n",
    "filt_4a = filt_4.loc[(filt_4['origin']==(\"LGA\")) | (filt_4['origin']==(\"JFK\"))]   #filter by arrivals from LGA or JFK\n",
    "q_num = filt_4a.shape[0]    #Count of arrivals from LGA or JFK\n",
    "print(q_num/q_total)"
   ]
  },
  {
   "cell_type": "code",
   "execution_count": 6,
   "id": "9c2e7344",
   "metadata": {},
   "outputs": [
    {
     "name": "stdout",
     "output_type": "stream",
     "text": [
      "date\n",
      "2013/3/8    83.536921\n",
      "Name: dep_delay, dtype: float64\n"
     ]
    },
    {
     "name": "stderr",
     "output_type": "stream",
     "text": [
      "/var/folders/ln/q3gb8n6n3dvcl5ylb14df9600000gn/T/ipykernel_9017/2868288395.py:14: FutureWarning: The default value of numeric_only in DataFrameGroupBy.mean is deprecated. In a future version, numeric_only will default to False. Either specify numeric_only or select only columns which should be valid for the function.\n",
      "  filt_5b = filt_5b.groupby(['date']).mean().sort_values('dep_delay', ascending=False)    #the error is referencing other columns that may be missing data but I did not want to exclude them from the analysis.\n"
     ]
    }
   ],
   "source": [
    "#q_5 Which date has the largest average depature delay? Pd slice with date and float\n",
    "#please make date a column. Preferred format is 2013/1/1 (y/m/d)\n",
    "filt_5 = flights_data\n",
    "filt_5a = filt_5.dropna(subset=['year', 'month', 'day'])\n",
    "#print(filt_5a.dtypes)\n",
    "filt_5a['year'] = filt_5a['year'].apply(str)\n",
    "filt_5a['month'] = filt_5a['month'].apply(str)\n",
    "filt_5a['day'] = filt_5a['day'].apply(str)\n",
    "filt_5a['date'] = filt_5a[['year', 'month', 'day']].agg(\"/\".join, axis=1)\n",
    "#filt_5a.head(5)\n",
    "filt_5b = filt_5a.dropna(subset=['dep_delay'])   #remove NaN from 'dep_delay' column\n",
    "#print(filt_5b)\n",
    "#filt_5b['dep_delay'].mean()\n",
    "filt_5b = filt_5b.groupby(['date']).mean().sort_values('dep_delay', ascending=False)    #the error is referencing other columns that may be missing data but I did not want to exclude them from the analysis.\n",
    "print(filt_5b['dep_delay'].iloc[:1])    #slicing method to output first row of df for column 'dep_delay'\n",
    "#q_5 = filt_5b.iloc[0]\n",
    "#print(q_5)\n",
    "\n",
    "#print(q_5, filt_5b['dep_delay'].iat[0])\n"
   ]
  },
  {
   "cell_type": "code",
   "execution_count": 7,
   "id": "480c7f11",
   "metadata": {},
   "outputs": [
    {
     "name": "stdout",
     "output_type": "stream",
     "text": [
      "date\n",
      "2013/3/8    85.862155\n",
      "Name: arr_delay, dtype: float64\n"
     ]
    },
    {
     "name": "stderr",
     "output_type": "stream",
     "text": [
      "/var/folders/ln/q3gb8n6n3dvcl5ylb14df9600000gn/T/ipykernel_9017/2575995137.py:13: FutureWarning: The default value of numeric_only in DataFrameGroupBy.mean is deprecated. In a future version, numeric_only will default to False. Either specify numeric_only or select only columns which should be valid for the function.\n",
      "  filt_6b = filt_6b.groupby(['date']).mean().sort_values('arr_delay', ascending=False)    #the error is referencing other columns that may be missing data but I did not want to exclude them from the analysis.\n"
     ]
    }
   ],
   "source": [
    "#q_6 Which date has the largest average arrival delay? pd slice with date and float\n",
    "filt_6 = flights_data\n",
    "filt_6a = filt_6.dropna(subset=['year', 'month', 'day'])\n",
    "#print(filt_6a.dtypes)\n",
    "filt_6a['year'] = filt_6a['year'].apply(str)\n",
    "filt_6a['month'] = filt_6a['month'].apply(str)\n",
    "filt_6a['day'] = filt_6a['day'].apply(str)\n",
    "filt_6a['date'] = filt_6a[['year', 'month', 'day']].agg(\"/\".join, axis=1)\n",
    "#filt_6a.head(5)\n",
    "filt_6b = filt_6a.dropna(subset=['arr_delay'])   #remove NaN from 'arr_delay' column\n",
    "#print(filt_6b)\n",
    "#filt_6b['dep_delay'].mean()\n",
    "filt_6b = filt_6b.groupby(['date']).mean().sort_values('arr_delay', ascending=False)    #the error is referencing other columns that may be missing data but I did not want to exclude them from the analysis.\n",
    "#filt_6b.head(5)\n",
    "print(filt_6b['arr_delay'].iloc[:1])    #slicing method to output first row of df for column 'arr_delay'"
   ]
  },
  {
   "cell_type": "code",
   "execution_count": 23,
   "id": "af6a060a",
   "metadata": {},
   "outputs": [
    {
     "name": "stdout",
     "output_type": "stream",
     "text": [
      "216447    N666DN\n",
      "Name: tailnum, dtype: object 216447    11.723077\n",
      "Name: speed, dtype: float64\n"
     ]
    },
    {
     "name": "stderr",
     "output_type": "stream",
     "text": [
      "/var/folders/ln/q3gb8n6n3dvcl5ylb14df9600000gn/T/ipykernel_9017/3665873830.py:9: SettingWithCopyWarning: \n",
      "A value is trying to be set on a copy of a slice from a DataFrame.\n",
      "Try using .loc[row_indexer,col_indexer] = value instead\n",
      "\n",
      "See the caveats in the documentation: https://pandas.pydata.org/pandas-docs/stable/user_guide/indexing.html#returning-a-view-versus-a-copy\n",
      "  filt_7b.loc[:,'speed'] = (filt_7b['distance'].div(filt_7b['air_time'].values))\n"
     ]
    }
   ],
   "source": [
    "#q_7 Which flight departing LGA or JFK in 2013 flew the fastest? pd slice with tailnumber and speed\n",
    "#speed = distance/airtime\n",
    "filt_7 = flights_data\n",
    "#print(flights_data)\n",
    "#print(filt_7)\n",
    "filt_7a = filt_7.loc[(filt_7['origin']==(\"LGA\")) | (filt_7['origin']==(\"JFK\"))]   #filtering by LGA or JFK departures and creating new df\n",
    "#print(filt_7a)\n",
    "filt_7b = filt_7a.dropna(subset=['distance', 'tailnum', 'air_time'])   #remove NaN from the columns that will be analyzed\n",
    "filt_7b.loc[:,'speed'] = (filt_7b['distance'].div(filt_7b['air_time'].values))\n",
    "filt_7c = filt_7b.sort_values('speed', ascending=False)\n",
    "#filt_7c.head(5)\n",
    "print(filt_7c['tailnum'].iloc[:1], filt_7c['speed'].iloc[:1])   #Prints tailnumber and speed\n",
    "#print(filt_7c)\n",
    "\n"
   ]
  },
  {
   "cell_type": "code",
   "execution_count": 42,
   "id": "fd179def",
   "metadata": {},
   "outputs": [
    {
     "data": {
      "text/html": [
       "<div>\n",
       "<style scoped>\n",
       "    .dataframe tbody tr th:only-of-type {\n",
       "        vertical-align: middle;\n",
       "    }\n",
       "\n",
       "    .dataframe tbody tr th {\n",
       "        vertical-align: top;\n",
       "    }\n",
       "\n",
       "    .dataframe thead th {\n",
       "        text-align: right;\n",
       "    }\n",
       "</style>\n",
       "<table border=\"1\" class=\"dataframe\">\n",
       "  <thead>\n",
       "    <tr style=\"text-align: right;\">\n",
       "      <th></th>\n",
       "      <th>Unnamed: 0</th>\n",
       "      <th>origin</th>\n",
       "      <th>year</th>\n",
       "      <th>month</th>\n",
       "      <th>day</th>\n",
       "      <th>hour</th>\n",
       "      <th>temp</th>\n",
       "      <th>dewp</th>\n",
       "      <th>humid</th>\n",
       "      <th>wind_dir</th>\n",
       "      <th>wind_speed</th>\n",
       "      <th>wind_gust</th>\n",
       "      <th>precip</th>\n",
       "      <th>pressure</th>\n",
       "      <th>visib</th>\n",
       "    </tr>\n",
       "  </thead>\n",
       "  <tbody>\n",
       "    <tr>\n",
       "      <th>0</th>\n",
       "      <td>1</td>\n",
       "      <td>EWR</td>\n",
       "      <td>2013</td>\n",
       "      <td>1.0</td>\n",
       "      <td>1.0</td>\n",
       "      <td>0.0</td>\n",
       "      <td>37.04</td>\n",
       "      <td>21.92</td>\n",
       "      <td>53.97</td>\n",
       "      <td>230.0</td>\n",
       "      <td>10.35702</td>\n",
       "      <td>11.918651</td>\n",
       "      <td>0.0</td>\n",
       "      <td>1013.9</td>\n",
       "      <td>10.0</td>\n",
       "    </tr>\n",
       "    <tr>\n",
       "      <th>1</th>\n",
       "      <td>2</td>\n",
       "      <td>EWR</td>\n",
       "      <td>2013</td>\n",
       "      <td>1.0</td>\n",
       "      <td>1.0</td>\n",
       "      <td>1.0</td>\n",
       "      <td>37.04</td>\n",
       "      <td>21.92</td>\n",
       "      <td>53.97</td>\n",
       "      <td>230.0</td>\n",
       "      <td>13.80936</td>\n",
       "      <td>15.891535</td>\n",
       "      <td>0.0</td>\n",
       "      <td>1013.0</td>\n",
       "      <td>10.0</td>\n",
       "    </tr>\n",
       "    <tr>\n",
       "      <th>2</th>\n",
       "      <td>3</td>\n",
       "      <td>EWR</td>\n",
       "      <td>2013</td>\n",
       "      <td>1.0</td>\n",
       "      <td>1.0</td>\n",
       "      <td>2.0</td>\n",
       "      <td>37.94</td>\n",
       "      <td>21.92</td>\n",
       "      <td>52.09</td>\n",
       "      <td>230.0</td>\n",
       "      <td>12.65858</td>\n",
       "      <td>14.567241</td>\n",
       "      <td>0.0</td>\n",
       "      <td>1012.6</td>\n",
       "      <td>10.0</td>\n",
       "    </tr>\n",
       "    <tr>\n",
       "      <th>3</th>\n",
       "      <td>4</td>\n",
       "      <td>EWR</td>\n",
       "      <td>2013</td>\n",
       "      <td>1.0</td>\n",
       "      <td>1.0</td>\n",
       "      <td>3.0</td>\n",
       "      <td>37.94</td>\n",
       "      <td>23.00</td>\n",
       "      <td>54.51</td>\n",
       "      <td>230.0</td>\n",
       "      <td>13.80936</td>\n",
       "      <td>15.891535</td>\n",
       "      <td>0.0</td>\n",
       "      <td>1012.7</td>\n",
       "      <td>10.0</td>\n",
       "    </tr>\n",
       "    <tr>\n",
       "      <th>4</th>\n",
       "      <td>5</td>\n",
       "      <td>EWR</td>\n",
       "      <td>2013</td>\n",
       "      <td>1.0</td>\n",
       "      <td>1.0</td>\n",
       "      <td>4.0</td>\n",
       "      <td>37.94</td>\n",
       "      <td>24.08</td>\n",
       "      <td>57.04</td>\n",
       "      <td>240.0</td>\n",
       "      <td>14.96014</td>\n",
       "      <td>17.215830</td>\n",
       "      <td>0.0</td>\n",
       "      <td>1012.8</td>\n",
       "      <td>10.0</td>\n",
       "    </tr>\n",
       "    <tr>\n",
       "      <th>...</th>\n",
       "      <td>...</td>\n",
       "      <td>...</td>\n",
       "      <td>...</td>\n",
       "      <td>...</td>\n",
       "      <td>...</td>\n",
       "      <td>...</td>\n",
       "      <td>...</td>\n",
       "      <td>...</td>\n",
       "      <td>...</td>\n",
       "      <td>...</td>\n",
       "      <td>...</td>\n",
       "      <td>...</td>\n",
       "      <td>...</td>\n",
       "      <td>...</td>\n",
       "      <td>...</td>\n",
       "    </tr>\n",
       "    <tr>\n",
       "      <th>8714</th>\n",
       "      <td>8715</td>\n",
       "      <td>JFK</td>\n",
       "      <td>2013</td>\n",
       "      <td>9.0</td>\n",
       "      <td>2.0</td>\n",
       "      <td>20.0</td>\n",
       "      <td>75.20</td>\n",
       "      <td>73.40</td>\n",
       "      <td>94.14</td>\n",
       "      <td>200.0</td>\n",
       "      <td>4.60312</td>\n",
       "      <td>5.297178</td>\n",
       "      <td>0.0</td>\n",
       "      <td>0.0</td>\n",
       "      <td>4.0</td>\n",
       "    </tr>\n",
       "    <tr>\n",
       "      <th>8715</th>\n",
       "      <td>8716</td>\n",
       "      <td>JFK</td>\n",
       "      <td>2013</td>\n",
       "      <td>10.0</td>\n",
       "      <td>23.0</td>\n",
       "      <td>10.0</td>\n",
       "      <td>48.92</td>\n",
       "      <td>39.02</td>\n",
       "      <td>68.51</td>\n",
       "      <td>60.0</td>\n",
       "      <td>4.60312</td>\n",
       "      <td>5.297178</td>\n",
       "      <td>0.0</td>\n",
       "      <td>1008.1</td>\n",
       "      <td>10.0</td>\n",
       "    </tr>\n",
       "    <tr>\n",
       "      <th>8716</th>\n",
       "      <td>8717</td>\n",
       "      <td>JFK</td>\n",
       "      <td>2013</td>\n",
       "      <td>10.0</td>\n",
       "      <td>23.0</td>\n",
       "      <td>11.0</td>\n",
       "      <td>48.92</td>\n",
       "      <td>39.02</td>\n",
       "      <td>68.51</td>\n",
       "      <td>40.0</td>\n",
       "      <td>4.60312</td>\n",
       "      <td>5.297178</td>\n",
       "      <td>0.0</td>\n",
       "      <td>1008.5</td>\n",
       "      <td>10.0</td>\n",
       "    </tr>\n",
       "    <tr>\n",
       "      <th>8717</th>\n",
       "      <td>8718</td>\n",
       "      <td>JFK</td>\n",
       "      <td>2013</td>\n",
       "      <td>12.0</td>\n",
       "      <td>17.0</td>\n",
       "      <td>5.0</td>\n",
       "      <td>26.96</td>\n",
       "      <td>10.94</td>\n",
       "      <td>50.34</td>\n",
       "      <td>40.0</td>\n",
       "      <td>4.60312</td>\n",
       "      <td>5.297178</td>\n",
       "      <td>0.0</td>\n",
       "      <td>1023.9</td>\n",
       "      <td>10.0</td>\n",
       "    </tr>\n",
       "    <tr>\n",
       "      <th>8718</th>\n",
       "      <td>8719</td>\n",
       "      <td>LGA</td>\n",
       "      <td>2013</td>\n",
       "      <td>8.0</td>\n",
       "      <td>22.0</td>\n",
       "      <td>22.0</td>\n",
       "      <td>75.92</td>\n",
       "      <td>66.92</td>\n",
       "      <td>73.68</td>\n",
       "      <td>210.0</td>\n",
       "      <td>8.05546</td>\n",
       "      <td>9.270062</td>\n",
       "      <td>0.0</td>\n",
       "      <td>1011.9</td>\n",
       "      <td>10.0</td>\n",
       "    </tr>\n",
       "  </tbody>\n",
       "</table>\n",
       "<p>8719 rows × 15 columns</p>\n",
       "</div>"
      ],
      "text/plain": [
       "      Unnamed: 0 origin  year  month   day  hour   temp   dewp  humid  \\\n",
       "0              1    EWR  2013    1.0   1.0   0.0  37.04  21.92  53.97   \n",
       "1              2    EWR  2013    1.0   1.0   1.0  37.04  21.92  53.97   \n",
       "2              3    EWR  2013    1.0   1.0   2.0  37.94  21.92  52.09   \n",
       "3              4    EWR  2013    1.0   1.0   3.0  37.94  23.00  54.51   \n",
       "4              5    EWR  2013    1.0   1.0   4.0  37.94  24.08  57.04   \n",
       "...          ...    ...   ...    ...   ...   ...    ...    ...    ...   \n",
       "8714        8715    JFK  2013    9.0   2.0  20.0  75.20  73.40  94.14   \n",
       "8715        8716    JFK  2013   10.0  23.0  10.0  48.92  39.02  68.51   \n",
       "8716        8717    JFK  2013   10.0  23.0  11.0  48.92  39.02  68.51   \n",
       "8717        8718    JFK  2013   12.0  17.0   5.0  26.96  10.94  50.34   \n",
       "8718        8719    LGA  2013    8.0  22.0  22.0  75.92  66.92  73.68   \n",
       "\n",
       "      wind_dir  wind_speed  wind_gust  precip  pressure  visib  \n",
       "0        230.0    10.35702  11.918651     0.0    1013.9   10.0  \n",
       "1        230.0    13.80936  15.891535     0.0    1013.0   10.0  \n",
       "2        230.0    12.65858  14.567241     0.0    1012.6   10.0  \n",
       "3        230.0    13.80936  15.891535     0.0    1012.7   10.0  \n",
       "4        240.0    14.96014  17.215830     0.0    1012.8   10.0  \n",
       "...        ...         ...        ...     ...       ...    ...  \n",
       "8714     200.0     4.60312   5.297178     0.0       0.0    4.0  \n",
       "8715      60.0     4.60312   5.297178     0.0    1008.1   10.0  \n",
       "8716      40.0     4.60312   5.297178     0.0    1008.5   10.0  \n",
       "8717      40.0     4.60312   5.297178     0.0    1023.9   10.0  \n",
       "8718     210.0     8.05546   9.270062     0.0    1011.9   10.0  \n",
       "\n",
       "[8719 rows x 15 columns]"
      ]
     },
     "execution_count": 42,
     "metadata": {},
     "output_type": "execute_result"
    }
   ],
   "source": [
    "#q_8 Replace all nans in the weather pd dataframe with 0s. Pd with no nans\n",
    "weather_data_pd.head(10)   #output first 10 rows\n",
    "q_8 = weather_data_pd.fillna(0)   #replaces all NaN with 0\n",
    "q_8"
   ]
  },
  {
   "cell_type": "code",
   "execution_count": 43,
   "id": "608fe291",
   "metadata": {
    "scrolled": false
   },
   "outputs": [
    {
     "data": {
      "text/plain": [
       "671"
      ]
     },
     "execution_count": 43,
     "metadata": {},
     "output_type": "execute_result"
    }
   ],
   "source": [
    "#q_9 How many observations were made in Feburary? Int\n",
    "q9_np = q_8.to_numpy()\n",
    "month = [row[3] for row in q9_np]  #Creates an array from the month column\n",
    "month = np.array(month, int)    #Converts data type to integer from float for numpy list analysis\n",
    "#print(month)\n",
    "#len(month)\n",
    "q_9 = month[np.in1d(month, [2])]   #Creates an array for only February [2] observations\n",
    "#print(q_9)  \n",
    "len(q_9)    #Number of February observations"
   ]
  },
  {
   "cell_type": "code",
   "execution_count": 54,
   "id": "ce279648",
   "metadata": {},
   "outputs": [
    {
     "data": {
      "text/plain": [
       "62.91815201192251"
      ]
     },
     "execution_count": 54,
     "metadata": {},
     "output_type": "execute_result"
    }
   ],
   "source": [
    "#q_10 What was the mean for humidity in February? Float\n",
    "#print(q_8)\n",
    "Febflights = []\n",
    "Febflights = q_8.loc[q_8['month']==2.0]   #Created Feb subset first with pandas\n",
    "#print(Febflights)\n",
    "q10_np = Febflights.to_numpy()\n",
    "#month = [row[3] for row in q10_np]  #Creates an array from the month column\n",
    "h = [row[8] for row in q10_np]   #Creates and array from humid column\n",
    "#print(humid)\n",
    "len(h)\n",
    "q_10 = np.mean(h)   #Outputs the mean for Feb humidities\n",
    "q_10   "
   ]
  },
  {
   "cell_type": "code",
   "execution_count": 56,
   "id": "f66a2238",
   "metadata": {},
   "outputs": [
    {
     "data": {
      "text/plain": [
       "20.33690087674334"
      ]
     },
     "execution_count": 56,
     "metadata": {},
     "output_type": "execute_result"
    }
   ],
   "source": [
    "#q_11 What was the std for humidity in February? Float\n",
    "#print(q_8)\n",
    "Febflights = []\n",
    "Febflights = q_8.loc[q_8['month']==2.0]   #Created Feb subset first with pandas\n",
    "#print(Febflights)\n",
    "q10_np = Febflights.to_numpy()\n",
    "#month = [row[3] for row in q10_np]  #Creates an array from the month column\n",
    "h = [row[8] for row in q10_np]   #Creates and array from humid column\n",
    "#print(humid)\n",
    "len(h)\n",
    "q_11 = np.std(h)   #Outputs the mean for Feb humidities\n",
    "q_11   "
   ]
  }
 ],
 "metadata": {
  "kernelspec": {
   "display_name": "Python 3 (ipykernel)",
   "language": "python",
   "name": "python3"
  },
  "language_info": {
   "codemirror_mode": {
    "name": "ipython",
    "version": 3
   },
   "file_extension": ".py",
   "mimetype": "text/x-python",
   "name": "python",
   "nbconvert_exporter": "python",
   "pygments_lexer": "ipython3",
   "version": "3.10.6"
  }
 },
 "nbformat": 4,
 "nbformat_minor": 5
}
